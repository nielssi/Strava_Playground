{
  "nbformat": 4,
  "nbformat_minor": 0,
  "metadata": {
    "colab": {
      "provenance": [],
      "authorship_tag": "ABX9TyP4t8WuUZ39z0tDm5VqJQIA",
      "include_colab_link": true
    },
    "kernelspec": {
      "name": "python3",
      "display_name": "Python 3"
    },
    "language_info": {
      "name": "python"
    }
  },
  "cells": [
    {
      "cell_type": "markdown",
      "metadata": {
        "id": "view-in-github",
        "colab_type": "text"
      },
      "source": [
        "<a href=\"https://colab.research.google.com/github/nielssi/Strava_Playground/blob/main/Merge_STAVA_activities.ipynb\" target=\"_parent\"><img src=\"https://colab.research.google.com/assets/colab-badge.svg\" alt=\"Open In Colab\"/></a>"
      ]
    },
    {
      "cell_type": "markdown",
      "source": [
        "# **STRAVA MERGER SCRIPT**\n",
        "\n",
        "A key challenge in interrupted STRAVA measurements is that while third party apps can be used to merge GPX files, uploading them will not usually work.\n",
        "\n",
        "Manually uploading the resulting, merged GPX as STRAVA will determine it is a duplicate of the individual underlying activities. To avoid this issue (and not losing commentary & kudos on those activities, which should still be set to private upon completion of this guide), the following process can be followed, effectively shifting the starting & ending time by a variable amount of time."
      ],
      "metadata": {
        "id": "rNNPsDe-qRsE"
      }
    },
    {
      "cell_type": "code",
      "execution_count": null,
      "metadata": {
        "id": "W2ekSXbnKmqi",
        "colab": {
          "base_uri": "https://localhost:8080/"
        },
        "outputId": "c052e5c4-3cc8-4720-ce79-bb095d357309"
      },
      "outputs": [
        {
          "output_type": "stream",
          "name": "stdout",
          "text": [
            "✅ Done! Modified file saved as RESULT.gpx\n"
          ]
        }
      ],
      "source": [
        "from xml.dom import minidom\n",
        "from datetime import datetime, timedelta\n",
        "\n",
        "#SETTINGS, using GOTOES service, initially merge two races, which were interrupted, by uploading their individual GPX files.\n",
        "gpx_input_path = 'GOTOES_XXXXXXXXXXXXXXXX.gpx'   # Update with your file name\n",
        "gpx_output_path = 'RESULT.gpx'\n",
        "time_offset_minutes = 1  # Shift all times by +X minutes (can be negative)\n",
        "\n",
        "# === Parse and modify GPX ===\n",
        "doc = minidom.parse(gpx_input_path)\n",
        "time_tags = doc.getElementsByTagName('time')\n",
        "\n",
        "for tag in time_tags:\n",
        "    old_time_str = tag.firstChild.nodeValue\n",
        "    old_time = datetime.strptime(old_time_str, \"%Y-%m-%dT%H:%M:%SZ\")\n",
        "    new_time = old_time + timedelta(minutes=time_offset_minutes)\n",
        "    tag.firstChild.nodeValue = new_time.strftime(\"%Y-%m-%dT%H:%M:%SZ\")\n",
        "\n",
        "# === Save new GPX file ===\n",
        "with open(gpx_output_path, 'w') as f:\n",
        "    doc.writexml(f)\n",
        "\n",
        "print(f\"✅ Done! Modified file saved as {gpx_output_path}\")\n"
      ]
    }
  ]
}